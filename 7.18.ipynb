{
 "cells": [
  {
   "cell_type": "markdown",
   "metadata": {},
   "source": [
    "# 选择\n",
    "## 布尔类型、数值和表达式\n",
    "![](../Photo/33.png)\n",
    "- 注意：比较运算符的相等是两个等到，一个等到代表赋值\n",
    "- 在Python中可以用整型0来代表False，其他数字来代表True\n",
    "- 后面还会讲到 is 在判断语句中的用发"
   ]
  },
  {
   "cell_type": "code",
   "execution_count": 5,
   "metadata": {},
   "outputs": [],
   "source": [
    "s = 1000"
   ]
  },
  {
   "cell_type": "code",
   "execution_count": 2,
   "metadata": {},
   "outputs": [
    {
     "ename": "NameError",
     "evalue": "name 's' is not defined",
     "output_type": "error",
     "traceback": [
      "\u001b[1;31m---------------------------------------------------------------------------\u001b[0m",
      "\u001b[1;31mNameError\u001b[0m                                 Traceback (most recent call last)",
      "\u001b[1;32m<ipython-input-2-ce80afe331ce>\u001b[0m in \u001b[0;36m<module>\u001b[1;34m()\u001b[0m\n\u001b[1;32m----> 1\u001b[1;33m \u001b[0mprint\u001b[0m\u001b[1;33m(\u001b[0m\u001b[0ms\u001b[0m\u001b[1;33m)\u001b[0m\u001b[1;33m\u001b[0m\u001b[0m\n\u001b[0m\u001b[0;32m      2\u001b[0m \u001b[0mcol\u001b[0m \u001b[1;33m=\u001b[0m \u001b[0meval\u001b[0m\u001b[1;33m(\u001b[0m\u001b[0minput\u001b[0m\u001b[1;33m(\u001b[0m\u001b[1;34m'请输入你要去的钱: '\u001b[0m\u001b[1;33m)\u001b[0m\u001b[1;33m)\u001b[0m\u001b[1;33m\u001b[0m\u001b[0m\n\u001b[0;32m      3\u001b[0m \u001b[1;32mif\u001b[0m \u001b[0ms\u001b[0m \u001b[1;33m<\u001b[0m \u001b[0mcol\u001b[0m\u001b[1;33m:\u001b[0m\u001b[1;33m\u001b[0m\u001b[0m\n\u001b[0;32m      4\u001b[0m        \u001b[0mprint\u001b[0m\u001b[1;33m(\u001b[0m\u001b[1;34m'取不出来这么多钱'\u001b[0m\u001b[1;33m)\u001b[0m\u001b[1;33m\u001b[0m\u001b[0m\n\u001b[0;32m      5\u001b[0m \u001b[1;32melse\u001b[0m \u001b[1;33m:\u001b[0m\u001b[1;33m\u001b[0m\u001b[0m\n",
      "\u001b[1;31mNameError\u001b[0m: name 's' is not defined"
     ]
    }
   ],
   "source": [
    "print(s)\n",
    "col = eval(input('请输入你要去的钱: '))\n",
    "if s < col:\n",
    "       print('取不出来这么多钱')\n",
    "else :\n",
    "    s = s - col\n",
    "    #sebd_message()\n",
    "    print('您的余额为',s)"
   ]
  },
  {
   "cell_type": "markdown",
   "metadata": {},
   "source": [
    "## 字符串的比较使用ASCII值"
   ]
  },
  {
   "cell_type": "markdown",
   "metadata": {},
   "source": [
    "## Markdown \n",
    "- https://github.com/younghz/Markdown"
   ]
  },
  {
   "cell_type": "markdown",
   "metadata": {},
   "source": [
    "## EP:\n",
    "- <img src=\"../Photo/34.png\"></img>\n",
    "- 输入一个数字，判断其实奇数还是偶数"
   ]
  },
  {
   "cell_type": "markdown",
   "metadata": {},
   "source": [
    "## 产生随机数字\n",
    "- 函数random.randint(a,b) 可以用来产生一个a和b之间且包括a和b的随机整数"
   ]
  },
  {
   "cell_type": "markdown",
   "metadata": {},
   "source": [
    "##  其他random方法\n",
    "- random.random 返回0.0到1.0之间前闭后开区间的随机浮点\n",
    "- random.randrange(a,b) 前闭后开"
   ]
  },
  {
   "cell_type": "markdown",
   "metadata": {},
   "source": [
    "## EP：\n",
    "- 产生两个随机整数number1和number2，然后显示给用户，使用户输入数字的和，并判定其是否正确\n",
    "- 进阶:写一个随机序号点名程序"
   ]
  },
  {
   "cell_type": "code",
   "execution_count": 319,
   "metadata": {},
   "outputs": [
    {
     "name": "stdout",
     "output_type": "stream",
     "text": [
      "第 3 行第 1 列位同学\n"
     ]
    }
   ],
   "source": [
    "import random\n",
    "a=random.randint(1,10)\n",
    "b=random.randint(1,5)\n",
    "if a == 10 or a == 9:\n",
    "    b=random.randint(1,6)\n",
    "print('第',a,'行第',b,'列位同学')"
   ]
  },
  {
   "cell_type": "markdown",
   "metadata": {},
   "source": [
    "## if语句\n",
    "- 如果条件正确就执行一个单向if语句，亦即当条件为真的时候才执行if内部的语句\n",
    "- Python有很多选择语句:\n",
    "> - 单向if \n",
    "  - 双向if-else\n",
    "  - 嵌套if\n",
    "  - 多向if-elif-else\n",
    "  \n",
    "- 注意：当语句含有子语句的时候，那么一定至少要有一个缩进，也就是说如果有儿子存在，那么一定要缩进\n",
    "- 切记不可tab键和space混用，单用tab 或者 space\n",
    "- 当你输出的结果是无论if是否为真时都需要显示时，语句应该与if对齐"
   ]
  },
  {
   "cell_type": "code",
   "execution_count": 345,
   "metadata": {},
   "outputs": [
    {
     "name": "stdout",
     "output_type": "stream",
     "text": [
      "ss85\n",
      "c\n"
     ]
    }
   ],
   "source": [
    "cj = eval(input('ss'))\n",
    "if cj >= 60 or cj < 80:\n",
    "    print('c')\n",
    "elif cj >=80 or cj<90:\n",
    "    print('b')\n",
    "elif cj >= 90:\n",
    "    print('A')\n",
    "else:\n",
    "    print('d')"
   ]
  },
  {
   "cell_type": "markdown",
   "metadata": {},
   "source": [
    "## EP：\n",
    "- 用户输入一个数字，判断其实奇数还是偶数\n",
    "- 进阶：可以查看下4.5实例研究猜生日"
   ]
  },
  {
   "cell_type": "markdown",
   "metadata": {},
   "source": [
    "## 双向if-else 语句\n",
    "- 如果条件为真，那么走if内部语句，否则走else内部语句"
   ]
  },
  {
   "cell_type": "markdown",
   "metadata": {},
   "source": [
    "## EP：\n",
    "- 产生两个随机整数number1和number2，然后显示给用户，使用户输入数字，并判定其是否正确,如果正确打印“you‘re correct”，否则打印正确错误"
   ]
  },
  {
   "cell_type": "markdown",
   "metadata": {},
   "source": [
    "## 嵌套if 和多向if-elif-else\n",
    "![](../Photo/35.png)"
   ]
  },
  {
   "cell_type": "markdown",
   "metadata": {},
   "source": [
    "## EP：\n",
    "- 提示用户输入一个年份，然后显示表示这一年的动物\n",
    "![](../Photo/36.png)\n",
    "- 计算身体质量指数的程序\n",
    "- BMI = 以千克为单位的体重除以以米为单位的身高\n",
    "![](../Photo/37.png)"
   ]
  },
  {
   "cell_type": "code",
   "execution_count": 356,
   "metadata": {},
   "outputs": [
    {
     "name": "stdout",
     "output_type": "stream",
     "text": [
      "你的体重是:200\n",
      "你的升高是:1.6\n",
      "超轻\n"
     ]
    }
   ],
   "source": [
    "higt = eval(input('你的体重是:'))\n",
    "s = eval(input('你的升高是:'))\n",
    "BIM= s/higt\n",
    "if BIM<18.5:\n",
    "    print('超轻')\n",
    "elif 18.5<=BIM<25.0:\n",
    "    print('标准')\n",
    "elif 25.0<=BIM<30.0:\n",
    "    print('有点胖呦')\n",
    "else:\n",
    "    print('没得救了')"
   ]
  },
  {
   "cell_type": "code",
   "execution_count": 360,
   "metadata": {},
   "outputs": [
    {
     "name": "stdout",
     "output_type": "stream",
     "text": [
      "你的出生年是:1984\n",
      "猴子\n"
     ]
    }
   ],
   "source": [
    "year = eval(input('你的出生年是:'))\n",
    "a = year % 2\n",
    "if a == 0:\n",
    "    print('猴子')\n",
    "elif a == 1:\n",
    "    print('鸡')\n",
    "elif a == 2:\n",
    "    print('狗')\n",
    "elif a == 3:\n",
    "    print('猪')\n",
    "elif a == 4:\n",
    "    print('鼠')\n",
    "elif a == 5:\n",
    "    print('牛')\n",
    "elif a == 6:\n",
    "    print('虎')\n",
    "elif a == 7:\n",
    "    print('兔')\n",
    "elif a == 8:\n",
    "    print('龙')\n",
    "elif a == 9:  \n",
    "    print('蛇')\n",
    "elif a == 10:\n",
    "    print('马')\n",
    "else:\n",
    "    print('羊')"
   ]
  },
  {
   "cell_type": "markdown",
   "metadata": {},
   "source": [
    "## 逻辑运算符\n",
    "![](../Photo/38.png)"
   ]
  },
  {
   "cell_type": "markdown",
   "metadata": {},
   "source": [
    "![](../Photo/39.png)\n",
    "![](../Photo/40.png)"
   ]
  },
  {
   "cell_type": "markdown",
   "metadata": {},
   "source": [
    "## EP：\n",
    "- 判定闰年：一个年份如果能被4整除但不能被100整除，或者能被400整除，那么这个年份就是闰年\n",
    "- 提示用户输入一个年份，并返回是否是闰年\n",
    "- 提示用户输入一个数字，判断其是否为水仙花数"
   ]
  },
  {
   "cell_type": "code",
   "execution_count": 367,
   "metadata": {},
   "outputs": [
    {
     "name": "stdout",
     "output_type": "stream",
     "text": [
      "输入年份:1988\n",
      "闰年\n"
     ]
    }
   ],
   "source": [
    "year = eval(input('输入年份:'))\n",
    "if (year % 4 == 0 and  not(year % 100 == 0))  or year % 400 == 0 :\n",
    "    print('闰年')"
   ]
  },
  {
   "cell_type": "code",
   "execution_count": 12,
   "metadata": {},
   "outputs": [
    {
     "name": "stdout",
     "output_type": "stream",
     "text": [
      "输入一个数:153\n",
      "153\n"
     ]
    }
   ],
   "source": [
    "num = str(input('输入一个数:'))\n",
    "a=0\n",
    "for i in num:\n",
    "    a=a+int(i)**3\n",
    "if a==int(num):\n",
    "    print(a)"
   ]
  },
  {
   "cell_type": "code",
   "execution_count": 38,
   "metadata": {},
   "outputs": [
    {
     "name": "stdout",
     "output_type": "stream",
     "text": [
      "153\n",
      "370\n",
      "370\n",
      "371\n",
      "407\n"
     ]
    }
   ],
   "source": [
    "for num in range(100,1000):\n",
    "    a=0\n",
    "    for i in str(num):\n",
    "        a=a+int(i)**3\n",
    "        if a == num :\n",
    "            print(a)"
   ]
  },
  {
   "cell_type": "markdown",
   "metadata": {},
   "source": [
    "## 实例研究：彩票\n",
    "![](../Photo/41.png)"
   ]
  },
  {
   "cell_type": "code",
   "execution_count": 42,
   "metadata": {},
   "outputs": [
    {
     "name": "stdout",
     "output_type": "stream",
     "text": [
      "76\n",
      "输入一个数:76\n",
      "yes\n",
      "yes\n"
     ]
    }
   ],
   "source": [
    "import random\n",
    "a=random.randint(10,100)\n",
    "num = str(input('输入一个数:'))\n",
    "if a - num == 0:\n",
    "    print(100)\n",
    "    elif a - num == 9:\n",
    "        print(30)\n",
    "        if"
   ]
  },
  {
   "cell_type": "markdown",
   "metadata": {},
   "source": [
    "# Homework\n",
    "- 1\n",
    "![](../Photo/42.png)"
   ]
  },
  {
   "cell_type": "code",
   "execution_count": 61,
   "metadata": {},
   "outputs": [
    {
     "name": "stdout",
     "output_type": "stream",
     "text": [
      "Enter a,b,c :1,2,3\n",
      "The equation has no real roots\n"
     ]
    }
   ],
   "source": [
    "import math\n",
    "a,b,c = eval(input('Enter a,b,c :'))\n",
    "ac = b**2 - 4*a*c \n",
    "if ac > 0 :\n",
    "    r1=-(-b+math.sqrt(b**2-4*a*c))/(2*a)\n",
    "    r2=-(-b-math.sqrt(b**2-4*a*c))/(2*a)\n",
    "    print('The roots are %f and %f' %(r1,r2))\n",
    "elif  ac==0 :\n",
    "    r1=--b/(2*a)\n",
    "    print('The roots is %.0f' %(r1))\n",
    "elif ac<0:\n",
    "     print('The equation has no real roots')"
   ]
  },
  {
   "cell_type": "markdown",
   "metadata": {},
   "source": [
    "- 2\n",
    "![](../Photo/43.png)"
   ]
  },
  {
   "cell_type": "code",
   "execution_count": 70,
   "metadata": {},
   "outputs": [
    {
     "name": "stdout",
     "output_type": "stream",
     "text": [
      "72\n",
      "输入一个数:5\n",
      "否\n"
     ]
    }
   ],
   "source": [
    "import random\n",
    "a=random.randint(10,100)\n",
    "c=0\n",
    "print(a)\n",
    "num = eval(input('输入一个数:'))\n",
    "for i in str(a):\n",
    "    c=c+int(i)\n",
    "if c==num:\n",
    "    print('真')\n",
    "else:\n",
    "    print('否')"
   ]
  },
  {
   "cell_type": "markdown",
   "metadata": {},
   "source": [
    "- 3\n",
    "![](../Photo/44.png)"
   ]
  },
  {
   "cell_type": "code",
   "execution_count": 71,
   "metadata": {},
   "outputs": [
    {
     "name": "stdout",
     "output_type": "stream",
     "text": [
      "Enter today`s day:1\n",
      "Enter the number of days elapsed since today:3\n",
      "Today is Monday and the future day is Thursday\n"
     ]
    }
   ],
   "source": [
    "now = eval(input('Enter today`s day:'))\n",
    "fcd = eval(input('Enter the number of days elapsed since today:'))\n",
    "a = (now + fcd) % 7 \n",
    "dd =  [ 'Sunday','Monday','Tuesday','Wednesday','Thursday','Friday','Saturday']\n",
    "print('Today is %s and the future day is %s' %(dd[now],dd[a]))"
   ]
  },
  {
   "cell_type": "markdown",
   "metadata": {},
   "source": [
    "- 4\n",
    "![](../Photo/45.png)"
   ]
  },
  {
   "cell_type": "code",
   "execution_count": 75,
   "metadata": {},
   "outputs": [
    {
     "name": "stdout",
     "output_type": "stream",
     "text": [
      "请输入3个数: 2,1,3\n",
      "3 2 1\n"
     ]
    }
   ],
   "source": [
    "a,b,c = eval(input('请输入3个数: '))\n",
    "if a>b:\n",
    "    if a>c:\n",
    "        if c>b:\n",
    "            print(a,c,b)\n",
    "        else:\n",
    "            print(a,b,c)\n",
    "    else:\n",
    "        print(c,a,b)\n",
    "else:\n",
    "    if b>c:\n",
    "        if c>a:\n",
    "            print(b,c,a)\n",
    "        else:\n",
    "            print(b,a,c)\n",
    "    else:\n",
    "        print(c,b,a)"
   ]
  },
  {
   "cell_type": "markdown",
   "metadata": {},
   "source": [
    "- 5\n",
    "![](../Photo/46.png)"
   ]
  },
  {
   "cell_type": "code",
   "execution_count": 77,
   "metadata": {},
   "outputs": [
    {
     "name": "stdout",
     "output_type": "stream",
     "text": [
      "Enter weight and price for package 1: 50,24.59\n",
      "Enter weight and price for package 1: 25,11.99\n",
      "package 2 has the better price.\n"
     ]
    }
   ],
   "source": [
    "N1,N2 =eval(input('Enter weight and price for package 1: '))\n",
    "p1=N1/N2\n",
    "w1,w2 =eval(input('Enter weight and price for package 1: '))\n",
    "p2=w1/w2\n",
    "if p1 > p2:\n",
    "    print('package 1 has the better price.')\n",
    "if p1< p2:\n",
    "     print('package 2 has the better price.')"
   ]
  },
  {
   "cell_type": "markdown",
   "metadata": {},
   "source": [
    "- 6\n",
    "![](../Photo/47.png)"
   ]
  },
  {
   "cell_type": "code",
   "execution_count": 91,
   "metadata": {},
   "outputs": [
    {
     "name": "stdout",
     "output_type": "stream",
     "text": [
      "输入月份: 2\n",
      "输入年份: 2000\n",
      "2000 的 2 月有 29 天\n"
     ]
    }
   ],
   "source": [
    "mon = eval(input('输入月份: '))\n",
    "year = eval(input('输入年份: '))\n",
    "moucc=[31,28,31,30,31,30,31,31,30,31,30,31]\n",
    "if (year % 4 == 0 and  not(year % 100 == 0))  or year % 400 == 0 :\n",
    "    moucc[1]=moucc[1]+1\n",
    "print(year,'的',mon,'月有',moucc[mon-1],'天')"
   ]
  },
  {
   "cell_type": "markdown",
   "metadata": {},
   "source": [
    "- 7\n",
    "![](../Photo/48.png)"
   ]
  },
  {
   "cell_type": "code",
   "execution_count": 97,
   "metadata": {},
   "outputs": [
    {
     "name": "stdout",
     "output_type": "stream",
     "text": [
      "输入一个数: 1\n",
      "错了\n"
     ]
    }
   ],
   "source": [
    "import random\n",
    "b=random.randint(0,1)\n",
    "a = eval(input('输入一个数: '))\n",
    "if a ==b :\n",
    "    print('对了')\n",
    "else:\n",
    "    print('错了')"
   ]
  },
  {
   "cell_type": "markdown",
   "metadata": {},
   "source": [
    "- 8\n",
    "![](../Photo/49.png)"
   ]
  },
  {
   "cell_type": "code",
   "execution_count": 101,
   "metadata": {},
   "outputs": [
    {
     "name": "stdout",
     "output_type": "stream",
     "text": [
      "scissor（0）rock,（1）, paper（2）:1\n",
      "the computer is paper You are rock .You loss\n"
     ]
    }
   ],
   "source": [
    "import random\n",
    "b=random.randint(0,2)\n",
    "c=['scissor','rock','paper']\n",
    "a = eval(input('scissor（0）rock,（1）, paper（2）:'))\n",
    "if a==b:\n",
    "    print('the computer is',c[b],'You are',c[a],'too,it is a draw')\n",
    "elif a>b and not(a==2 and b==0 or a==0 and b==2 ):\n",
    "     print('the computer is',c[b],'You are',c[a],'.You win')\n",
    "else:\n",
    "     print('the computer is',c[b],'You are',c[a],'.You loss')"
   ]
  },
  {
   "cell_type": "markdown",
   "metadata": {},
   "source": [
    "- 9\n",
    "![](../Photo/50.png)"
   ]
  },
  {
   "cell_type": "code",
   "execution_count": 30,
   "metadata": {},
   "outputs": [
    {
     "name": "stdout",
     "output_type": "stream",
     "text": [
      "Enter year:（e.g.,2008） :2013\n",
      "Enter month: 1-12: 1\n",
      "Enter the day of the month: 1-31: 25\n",
      "13\n",
      "2012\n",
      "Day of the week is Saturday\n"
     ]
    }
   ],
   "source": [
    "dd =  ['Saturday','Sunday','Monday','Tuesday','Wednesday','Thursday','Friday']\n",
    "year = eval(input('Enter year:（e.g.,2008） :'))\n",
    "m = eval(input('Enter month: 1-12: '))\n",
    "q = eval(input('Enter the day of the month: 1-31: '))\n",
    "if m==1:\n",
    "    m=13\n",
    "    print(m)\n",
    "    print(year-1)\n",
    "    j=(year-1)//100\n",
    "    k=(year-1)%100\n",
    "    h=(q+(26*(m+1))//10+k+k//4+j//4+5*j)%7\n",
    "if m==2:\n",
    "    m=14 \n",
    "    j=(year-1)//100\n",
    "    k=(year-1)%100\n",
    "    h=(q+(26*(m+1))/10+k+k/4+j/4+5*j)%7\n",
    "else:\n",
    "    j=year//100\n",
    "    k=year%100\n",
    "    h=(q+(26*(m+1))/10+k+k//4+j//4+5*j)%7\n",
    "print('Day of the week is',dd[int(h)])"
   ]
  },
  {
   "cell_type": "markdown",
   "metadata": {},
   "source": [
    "- 10\n",
    "![](../Photo/51.png)"
   ]
  },
  {
   "cell_type": "code",
   "execution_count": 43,
   "metadata": {},
   "outputs": [
    {
     "name": "stdout",
     "output_type": "stream",
     "text": [
      "The card you picked is the King of Clubs\n"
     ]
    }
   ],
   "source": [
    "import random\n",
    "b=random.randint(0,52)\n",
    "p=['King','Ace','2','3','4','5','6','7','8','9','10','Jack','Queen']\n",
    "h=['Clubs','Diamonds','Hearts','Spades']\n",
    "a = b % 13\n",
    "c = b//13\n",
    "print('The card you picked is the',p[a-1],'of',h[c])"
   ]
  },
  {
   "cell_type": "markdown",
   "metadata": {},
   "source": [
    "- 11\n",
    "![](../Photo/52.png)"
   ]
  },
  {
   "cell_type": "code",
   "execution_count": 45,
   "metadata": {},
   "outputs": [
    {
     "name": "stdout",
     "output_type": "stream",
     "text": [
      "Enter a three-digit integer: 123\n",
      "123 is not a palindrome\n"
     ]
    }
   ],
   "source": [
    "number = eval(input(\"Enter a three-digit integer: \"))\n",
    "reversedNumber = (number % 10) * 100 + (number // 10 % 10) * 10 + (number // 100)\n",
    "if number == reversedNumber:\n",
    "    print(number, \"is a palindrome\")\n",
    "else:\n",
    "    print(number, \"is not a palindrome\")"
   ]
  },
  {
   "cell_type": "markdown",
   "metadata": {},
   "source": [
    "- 12\n",
    "![](../Photo/53.png)"
   ]
  },
  {
   "cell_type": "code",
   "execution_count": 31,
   "metadata": {},
   "outputs": [
    {
     "name": "stdout",
     "output_type": "stream",
     "text": [
      "Enter three edges:1,1,1\n",
      "The perimeter is  3\n"
     ]
    }
   ],
   "source": [
    "a,b,c = eval(input('Enter three edges:'))\n",
    "if a+b>c and a+c>b and b+c>a:\n",
    "    s=a+b+c\n",
    "    print('The perimeter is ',s)"
   ]
  }
 ],
 "metadata": {
  "kernelspec": {
   "display_name": "Python 3",
   "language": "python",
   "name": "python3"
  },
  "language_info": {
   "codemirror_mode": {
    "name": "ipython",
    "version": 3
   },
   "file_extension": ".py",
   "mimetype": "text/x-python",
   "name": "python",
   "nbconvert_exporter": "python",
   "pygments_lexer": "ipython3",
   "version": "3.6.4"
  }
 },
 "nbformat": 4,
 "nbformat_minor": 2
}
